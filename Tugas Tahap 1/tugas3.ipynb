{
 "cells": [
  {
   "cell_type": "markdown",
   "source": [
    "# OOP - Inheritence"
   ],
   "metadata": {}
  },
  {
   "cell_type": "markdown",
   "source": [
    "### Membuat class `Person`"
   ],
   "metadata": {}
  },
  {
   "cell_type": "code",
   "execution_count": null,
   "source": [
    "# Code Here"
   ],
   "outputs": [],
   "metadata": {}
  },
  {
   "cell_type": "markdown",
   "source": [
    "### Membuat child class dari class `Person`, yaitu class `Employee`"
   ],
   "metadata": {}
  },
  {
   "cell_type": "code",
   "execution_count": null,
   "source": [
    "# Code Here"
   ],
   "outputs": [],
   "metadata": {}
  },
  {
   "cell_type": "markdown",
   "source": [
    "# Seaborn"
   ],
   "metadata": {}
  },
  {
   "cell_type": "code",
   "execution_count": null,
   "source": [
    "# Code Here"
   ],
   "outputs": [],
   "metadata": {}
  },
  {
   "cell_type": "markdown",
   "source": [
    "# Numpy"
   ],
   "metadata": {}
  },
  {
   "cell_type": "code",
   "execution_count": 1,
   "source": [
    "import numpy as np"
   ],
   "outputs": [],
   "metadata": {}
  },
  {
   "cell_type": "markdown",
   "source": [
    "### Membuat numpy array 1d"
   ],
   "metadata": {}
  },
  {
   "cell_type": "code",
   "execution_count": null,
   "source": [
    "# Code Here"
   ],
   "outputs": [],
   "metadata": {}
  },
  {
   "cell_type": "markdown",
   "source": [
    "### Mengganti nilai angka ganjil dari array menjadi -1\r\n",
    "`input: [1, 2, 3, 4, 5, 6, 7, 8, 9, 10, 11]`\r\n",
    "\r\n",
    "`output: [-1, 2, -1, 4, -1, 6, -1, 8, -1, 10, -1]`"
   ],
   "metadata": {}
  },
  {
   "cell_type": "code",
   "execution_count": null,
   "source": [
    "# Code Here"
   ],
   "outputs": [],
   "metadata": {}
  },
  {
   "cell_type": "markdown",
   "source": [
    "### Mencari angka yang paling banyak muncul (`Modus`)\r\n",
    "#### Input (numpy array) :\r\n",
    "`x : [1, 2, 3, 2, 3, 4, 3, 4, 5, 6]`\r\n",
    "\r\n",
    "`y : [7, 2, 10, 2, 7, 4, 9, 4, 9, 8]`\r\n",
    "\r\n",
    "`output: [2, 4]`"
   ],
   "metadata": {}
  },
  {
   "cell_type": "code",
   "execution_count": null,
   "source": [
    "# Code Here"
   ],
   "outputs": [],
   "metadata": {}
  }
 ],
 "metadata": {
  "orig_nbformat": 4,
  "language_info": {
   "name": "python",
   "version": "3.9.6",
   "mimetype": "text/x-python",
   "codemirror_mode": {
    "name": "ipython",
    "version": 3
   },
   "pygments_lexer": "ipython3",
   "nbconvert_exporter": "python",
   "file_extension": ".py"
  },
  "kernelspec": {
   "name": "python3",
   "display_name": "Python 3.9.6 64-bit ('venv': venv)"
  },
  "interpreter": {
   "hash": "b81fa4d46f8e9211c0b3ee81190453c377fecf3294137fd80f3c49e17f294ecb"
  }
 },
 "nbformat": 4,
 "nbformat_minor": 2
}