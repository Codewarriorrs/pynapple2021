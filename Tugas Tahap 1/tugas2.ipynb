{
 "cells": [
  {
   "cell_type": "markdown",
   "source": [
    "# Object Oriented Programming"
   ],
   "metadata": {}
  },
  {
   "cell_type": "code",
   "execution_count": null,
   "source": [
    "class Cat:\r\n",
    "  species = \"mammal\"\r\n",
    "  def __init__(self, name: str, age: int) -> None:\r\n",
    "      self.name = name\r\n",
    "      self.age = age"
   ],
   "outputs": [],
   "metadata": {}
  },
  {
   "cell_type": "markdown",
   "source": [
    "### Membuat 3 instantiate object dari `class Cat`"
   ],
   "metadata": {}
  },
  {
   "cell_type": "code",
   "execution_count": null,
   "source": [
    "# Code Here"
   ],
   "outputs": [],
   "metadata": {}
  },
  {
   "cell_type": "markdown",
   "source": [
    "### Membuat function untuk menentukan `kucing tertua`"
   ],
   "metadata": {}
  },
  {
   "cell_type": "code",
   "execution_count": null,
   "source": [
    "# Code Here"
   ],
   "outputs": [],
   "metadata": {}
  },
  {
   "cell_type": "markdown",
   "source": [
    "### Print hasil dari function yang menentukan `kucing tertua`\r\n",
    "`output: Kucing tertua berumur x`"
   ],
   "metadata": {}
  },
  {
   "cell_type": "code",
   "execution_count": null,
   "source": [
    "# Code Here"
   ],
   "outputs": [],
   "metadata": {}
  },
  {
   "cell_type": "markdown",
   "source": [
    "# Unit Test"
   ],
   "metadata": {}
  },
  {
   "cell_type": "code",
   "execution_count": null,
   "source": [
    "import random\r\n",
    "\r\n",
    "def run_guess(guess, answer):\r\n",
    "  if 0 < guess < 11:\r\n",
    "    if guess == answer:\r\n",
    "      print('you are genius!')\r\n",
    "      return True\r\n",
    "  else:\r\n",
    "    print('hey kid, I said 1~10')\r\n",
    "    return False\r\n",
    "\r\n",
    "\r\n",
    "answer = random.randint(1, 10)\r\n",
    "while True:\r\n",
    "  try:\r\n",
    "    guess = int(input('guess a number 1~10:   '))\r\n",
    "    if run_guess(guess, answer):\r\n",
    "      break\r\n",
    "  except ValueError:\r\n",
    "    print('please enter a number')\r\n",
    "    continue"
   ],
   "outputs": [],
   "metadata": {}
  },
  {
   "cell_type": "markdown",
   "source": [
    "### Unit test for function `run_guess`"
   ],
   "metadata": {}
  },
  {
   "cell_type": "code",
   "execution_count": null,
   "source": [
    "# Code Here"
   ],
   "outputs": [],
   "metadata": {}
  }
 ],
 "metadata": {
  "orig_nbformat": 4,
  "language_info": {
   "name": "python",
   "version": "3.9.6",
   "mimetype": "text/x-python",
   "codemirror_mode": {
    "name": "ipython",
    "version": 3
   },
   "pygments_lexer": "ipython3",
   "nbconvert_exporter": "python",
   "file_extension": ".py"
  },
  "kernelspec": {
   "name": "python3",
   "display_name": "Python 3.9.6 64-bit ('venv': venv)"
  },
  "interpreter": {
   "hash": "b81fa4d46f8e9211c0b3ee81190453c377fecf3294137fd80f3c49e17f294ecb"
  }
 },
 "nbformat": 4,
 "nbformat_minor": 2
}