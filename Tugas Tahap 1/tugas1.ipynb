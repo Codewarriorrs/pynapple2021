{
 "cells": [
  {
   "cell_type": "markdown",
   "source": [
    "# Modulus function\r\n",
    "Sebuah function yang akan mencari hasil modulus dari suatu nilai dan angka modulusnya"
   ],
   "metadata": {}
  },
  {
   "cell_type": "code",
   "execution_count": null,
   "source": [
    "# Code Here"
   ],
   "outputs": [],
   "metadata": {}
  },
  {
   "cell_type": "markdown",
   "source": [
    "# Control Flow Statement\r\n",
    "Membuat control flow berdasarkan kegiatan sehari-hari"
   ],
   "metadata": {}
  },
  {
   "cell_type": "code",
   "execution_count": null,
   "source": [
    "# Code Here"
   ],
   "outputs": [],
   "metadata": {}
  }
 ],
 "metadata": {
  "orig_nbformat": 4,
  "language_info": {
   "name": "python",
   "version": "3.9.6"
  },
  "kernelspec": {
   "name": "python3",
   "display_name": "Python 3.9.6 64-bit ('venv': venv)"
  },
  "interpreter": {
   "hash": "b81fa4d46f8e9211c0b3ee81190453c377fecf3294137fd80f3c49e17f294ecb"
  }
 },
 "nbformat": 4,
 "nbformat_minor": 2
}