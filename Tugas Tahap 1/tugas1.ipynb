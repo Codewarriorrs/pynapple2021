{
 "cells": [
  {
   "cell_type": "markdown",
   "source": [
    "# Modulus function\r\n",
    "Sebuah function yang akan mencari hasil modulus dari suatu nilai dan angka modulusnya"
   ],
   "metadata": {}
  },
  {
   "cell_type": "code",
   "execution_count": 1,
   "source": [
    "x = 5 % 2\r\n",
    "print(x)"
   ],
   "outputs": [
    {
     "output_type": "stream",
     "name": "stdout",
     "text": [
      "1\n"
     ]
    }
   ],
   "metadata": {}
  },
  {
   "cell_type": "markdown",
   "source": [
    "# Control Flow Statement\r\n",
    "Membuat control flow berdasarkan kegiatan sehari-hari"
   ],
   "metadata": {}
  },
  {
   "cell_type": "code",
   "execution_count": null,
   "source": [
    "# Code Here"
   ],
   "outputs": [],
   "metadata": {}
  }
 ],
 "metadata": {
  "orig_nbformat": 4,
  "language_info": {
   "name": "python",
   "version": "3.9.6",
   "mimetype": "text/x-python",
   "codemirror_mode": {
    "name": "ipython",
    "version": 3
   },
   "pygments_lexer": "ipython3",
   "nbconvert_exporter": "python",
   "file_extension": ".py"
  },
  "kernelspec": {
   "name": "python3",
   "display_name": "Python 3.9.6 64-bit ('venv': venv)"
  },
  "interpreter": {
   "hash": "c916b566f33aa11eda71caafb943d91874c35482e1e4fccf294d464b1e8d7a08"
  }
 },
 "nbformat": 4,
 "nbformat_minor": 2
}