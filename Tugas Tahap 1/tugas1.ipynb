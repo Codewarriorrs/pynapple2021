{
 "cells": [
  {
   "cell_type": "markdown",
   "source": [
    "# Modulus function\r\n",
    "Sebuah function yang akan mencari hasil modulus dari suatu nilai dan angka modulusnya"
   ],
   "metadata": {}
  },
  {
   "cell_type": "code",
   "execution_count": 7,
   "source": [
    "def getModulus(num1, num2):\r\n",
    "  return num1 % num2\r\n",
    "print (getModulus(5,2))\r\n"
   ],
   "outputs": [
    {
     "output_type": "stream",
     "name": "stdout",
     "text": [
      "1\n"
     ]
    }
   ],
   "metadata": {}
  },
  {
   "cell_type": "markdown",
   "source": [
    "# Control Flow Statement\r\n",
    "Membuat control flow berdasarkan kegiatan sehari-hari"
   ],
   "metadata": {}
  },
  {
   "cell_type": "code",
   "execution_count": 6,
   "source": [
    "# Code Here\r\n",
    "sifat='tampan'\r\n",
    "orang1=['jutek','sombong','cuek']\r\n",
    "orang2=['ramah','tampan','berani' ]\r\n",
    "orang3=['cantik','ramah','asik']\r\n",
    "\r\n",
    "if sifat in orang1:\r\n",
    "    print(f\"WOWWW sifat {sifat} ditemukan pada orang pertama\")\r\n",
    "elif sifat in orang2:\r\n",
    "    print(f\"WOWWW sifat {sifat} ditemukan pada orang kedua\")\r\n",
    "elif sifat in orang3:\r\n",
    "    print(f\"WOWWW sifat {sifat} ditemukan pada orang pertama\")\r\n",
    "else:\r\n",
    "    print(\"orang pertama,kedua,dan ketiga tidak memiliki sifat {sifat}\")"
   ],
   "outputs": [
    {
     "output_type": "stream",
     "name": "stdout",
     "text": [
      "WOWWW sifat tampan ditemukan pada orang kedua\n"
     ]
    }
   ],
   "metadata": {}
  }
 ],
 "metadata": {
  "orig_nbformat": 4,
  "language_info": {
   "name": "python",
   "version": "3.9.6",
   "mimetype": "text/x-python",
   "codemirror_mode": {
    "name": "ipython",
    "version": 3
   },
   "pygments_lexer": "ipython3",
   "nbconvert_exporter": "python",
   "file_extension": ".py"
  },
  "kernelspec": {
   "name": "python3",
   "display_name": "Python 3.9.6 64-bit"
  },
  "interpreter": {
   "hash": "33dc6d49505b4536b6a128d9d7c879e1fa44477ad44947bbbe73093067fe6393"
  }
 },
 "nbformat": 4,
 "nbformat_minor": 2
}